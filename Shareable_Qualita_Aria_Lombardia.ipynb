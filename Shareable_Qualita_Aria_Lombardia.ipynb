{
  "nbformat": 4,
  "nbformat_minor": 0,
  "metadata": {
    "colab": {
      "name": "Shareable Qualita Aria Lombardia.ipynb",
      "provenance": [],
      "collapsed_sections": [],
      "authorship_tag": "ABX9TyMu9IJPi+HuKC8EYpRHSvP4",
      "include_colab_link": true
    },
    "kernelspec": {
      "name": "python3",
      "display_name": "Python 3"
    },
    "language_info": {
      "name": "python"
    }
  },
  "cells": [
    {
      "cell_type": "markdown",
      "metadata": {
        "id": "view-in-github",
        "colab_type": "text"
      },
      "source": [
        "<a href=\"https://colab.research.google.com/github/questmapping/Lombardia-Air-Quality/blob/main/Shareable_Qualita_Aria_Lombardia.ipynb\" target=\"_parent\"><img src=\"https://colab.research.google.com/assets/colab-badge.svg\" alt=\"Open In Colab\"/></a>"
      ]
    },
    {
      "cell_type": "code",
      "metadata": {
        "id": "iNbxhMIuC4uE"
      },
      "source": [
        "import pandas as pd\n",
        "from datetime import datetime, timedelta"
      ],
      "execution_count": null,
      "outputs": []
    },
    {
      "cell_type": "code",
      "metadata": {
        "id": "i5r7iHUp_20L"
      },
      "source": [
        "#https://github.com/xmunoz/sodapy\n",
        "#https://www.dati.lombardia.it/Ambiente/Stazioni-qualit-dell-aria/ib47-atvt\n",
        "#https://dev.socrata.com/foundry/www.dati.lombardia.it/ib47-atvt\n",
        "\n",
        "\n",
        "try:\n",
        "  from sodapy import Socrata\n",
        "except:\n",
        "  from pip._internal.main import main as pip\n",
        "  pip([\"install\", \"sodapy\"])\n",
        "  from sodapy import Socrata"
      ],
      "execution_count": null,
      "outputs": []
    },
    {
      "cell_type": "markdown",
      "metadata": {
        "id": "MCAOBq4xFtRR"
      },
      "source": [
        "Prima di proseguire con l'esecuzione del programma, devi reperire da qui https://www.dati.lombardia.it/profile/edit/developer_settings un APP Token. Registrati, entra e clicca su \"crea nuova applicazione\". Finita la creazione avrai a disposizione l'App Token da inserire qui sotto\n"
      ]
    },
    {
      "cell_type": "code",
      "metadata": {
        "colab": {
          "base_uri": "https://localhost:8080/"
        },
        "id": "M6bX9yl_B25w",
        "outputId": "d4695b79-448b-43ef-d550-8b205082c876"
      },
      "source": [
        "# Unauthenticated client only works with public data sets. Note 'None'\n",
        "# in place of application token, and no username or password:\n",
        "#client = Socrata(\"www.dati.lombardia.it\", None)\n",
        "\n",
        "# Example authenticated client (needed for non-public datasets):\n",
        "# Get a Token: https://www.dati.lombardia.it/profile/edit/developer_settings\n",
        "try:\n",
        "    client = Socrata(\"www.dati.lombardia.it\",\n",
        "                      app_token=\"Get an APP Token and Put it Here\")\n",
        "    auth=True\n",
        "except ValueError:\n",
        "    auth=False\n",
        "    api=\"Connection Error\"\n",
        "\n",
        "auth"
      ],
      "execution_count": null,
      "outputs": [
        {
          "output_type": "execute_result",
          "data": {
            "text/plain": [
              "True"
            ]
          },
          "metadata": {
            "tags": []
          },
          "execution_count": 3
        }
      ]
    },
    {
      "cell_type": "markdown",
      "metadata": {
        "id": "f-q6rXrRRvMp"
      },
      "source": [
        "Elenco dei Comuni che hanno i sensori installati dall'Arpa Lombardia"
      ]
    },
    {
      "cell_type": "code",
      "metadata": {
        "id": "-fkCZFcYRrXt"
      },
      "source": [
        "results = client.get(\"ib47-atvt\",select=\"comune\")\n",
        "comune_df = pd.DataFrame.from_records(results).drop_duplicates()\n",
        "with pd.option_context('display.max_rows', None, 'display.max_columns', None):\n",
        "  print(comune_df)"
      ],
      "execution_count": null,
      "outputs": []
    },
    {
      "cell_type": "markdown",
      "metadata": {
        "id": "Zhp5wv5RR8SJ"
      },
      "source": [
        "Qui di seguito inserire il Comune scelto dall'elenco"
      ]
    },
    {
      "cell_type": "code",
      "metadata": {
        "colab": {
          "base_uri": "https://localhost:8080/"
        },
        "id": "9V2fbs0zCKSy",
        "outputId": "48b8f284-e266-4a4c-ede7-be0e48c90b95"
      },
      "source": [
        "print('Digita il nome del Comune Lombardo e premi Invio')\n",
        "Comune = input('>')"
      ],
      "execution_count": null,
      "outputs": [
        {
          "output_type": "stream",
          "text": [
            "Digita il nome del Comune Lombardo e premi Invio\n",
            ">Mantova\n"
          ],
          "name": "stdout"
        }
      ]
    },
    {
      "cell_type": "markdown",
      "metadata": {
        "id": "M0hC_hnwSLo9"
      },
      "source": [
        "Qui lanciamo un semplice test per vedere se ci sono sensori attivi"
      ]
    },
    {
      "cell_type": "code",
      "metadata": {
        "id": "NuqgtwffSMRQ"
      },
      "source": [
        "results = client.get(\"ib47-atvt\",select=\"idsensore\",where=\"comune = '\"+Comune+\"'\")\n",
        "results_df = pd.DataFrame.from_records(results)\n",
        "lista = list(results_df.idsensore)\n",
        "print(f\"Lista di {len(lista)} Sensori su {Comune}: {lista}\\n\")\n",
        "#Query Sensori\n",
        "sensori=\"\"\n",
        "for sensore in lista:\n",
        "    sensori+=\"idsensore = '\"+str(sensore)+\"' or \"\n",
        "\n",
        "sensori = sensori[:-4]\n",
        "\n",
        "#per lavorare le date dobbiamo usare le funzioni di SOQL SODA https://dev.socrata.com/docs/functions/#,\n",
        "results = client.get(\"nicp-bhqi\", select=\"idsensore,valore,stato,date_trunc_ymd(data) as day\", where=\"(\"+sensori+\") and stato = 'VA'\", order=\"data DESC\")\n",
        "print(f\"Controllo sensori attivi: {results}\")"
      ],
      "execution_count": null,
      "outputs": []
    },
    {
      "cell_type": "markdown",
      "metadata": {
        "id": "ls6XP6bmSWIu"
      },
      "source": [
        "Qui Invece facciamo questa media di misurazione \"empirica\" per ottenere un semplice indicatore di qualità dell'aria"
      ]
    },
    {
      "cell_type": "code",
      "metadata": {
        "colab": {
          "base_uri": "https://localhost:8080/"
        },
        "id": "LWnpICdKCvy0",
        "outputId": "362d67fd-4cab-47bc-c882-206ca75cdf02"
      },
      "source": [
        "# First 2000 results, returned as JSON from API / converted to Python list of\n",
        "# dictionaries by sodapy.\n",
        "#Le Query seguono le definizioni di SoQL https://dev.socrata.com/docs/queries/\n",
        "#per vedere i campi e i formati, guardiamo qui https://dev.socrata.com/foundry/www.dati.lombardia.it/ib47-atvt\n",
        "#il primo parametro è l'identificativo dei dati json, gli altri parametri sono query\n",
        "#sul sito lombardia troviamo i dati per i sensori aria: https://www.dati.lombardia.it/browse?category=Ambiente&tags=sensori_aria&provenance=official\n",
        "if auth:\n",
        "    results = client.get(\"ib47-atvt\",select=\"idsensore\",where=\"comune = '\"+Comune+\"'\", limit=20)\n",
        "    \n",
        "    # Convert to pandas DataFrame\n",
        "    results_df = pd.DataFrame.from_records(results)\n",
        "    if not results_df.empty:\n",
        "      lista = list(results_df.idsensore)\n",
        "      #Query Sensori\n",
        "      sensori=\"\"\n",
        "      for sensore in lista:\n",
        "          sensori+=\"idsensore = '\"+str(sensore)+\"' or \"\n",
        "      sensori = sensori[:-4]\n",
        "      #print(sensori)\n",
        "      \n",
        "      #quando abbiamo i sensori, cerchiamo i dati di oggi nel mese in corso https://www.dati.lombardia.it/Ambiente/Dati-sensori-aria/nicp-bhqi\n",
        "      today = str(datetime.now().date() - timedelta(days=3)) #sottraiamo 3 gg per avere semplicemente la sicurezza che ci siano dei dati salvati\n",
        "      #per lavorare le date dobbiamo usare le funzioni di SOQL SODA https://dev.socrata.com/docs/functions/#,\n",
        "      results = client.get(\"nicp-bhqi\", select=\"idsensore,valore,stato,date_trunc_ymd(data) as day\", where=\"(\"+sensori+\") and day = '\"+today+\"' and stato = 'VA'\", order=\"data DESC\")\n",
        "      results_df = pd.DataFrame.from_records(results)\n",
        "      if not results_df.empty:\n",
        "        meanQuality=results_df[\"valore\"].astype(float).mean()\n",
        "        #print(meanQuality)\n",
        "        print(today+ \" \" + Comune + \", media microgrammi per m3 rilevati: \"+str(meanQuality))\n",
        "        if meanQuality < 15:\n",
        "          print(\"Qualità dell'aria buona\")\n",
        "        elif meanQuality < 30:\n",
        "          print(\"Qualità dell'aria mediocre\")\n",
        "        else:\n",
        "          print(\"Qualità dell'aria pessima\")\n",
        "      else:\n",
        "        print(f\"Dati validi per {Comune} non disponibili\")\n",
        "      \n",
        "    else:\n",
        "      print(f\"Sensori per {Comune} non disponibili\")\n",
        "                "
      ],
      "execution_count": null,
      "outputs": [
        {
          "output_type": "stream",
          "text": [
            "2021-04-22 Mantova, media microgrammi per m3 rilevati: 15.925\n",
            "Qualità dell'aria mediocre\n"
          ],
          "name": "stdout"
        }
      ]
    }
  ]
}